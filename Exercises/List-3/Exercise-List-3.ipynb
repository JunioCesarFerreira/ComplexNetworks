{
 "cells": [
  {
   "cell_type": "code",
   "execution_count": 1,
   "metadata": {},
   "outputs": [],
   "source": [
    "import numpy as np\n",
    "import matplotlib.pyplot as plt\n",
    "import networkx as nx\n",
    "from scipy.stats import pearsonr\n",
    "from scipy.stats import spearmanr"
   ]
  },
  {
   "cell_type": "code",
   "execution_count": 2,
   "metadata": {},
   "outputs": [
    {
     "name": "stdout",
     "output_type": "stream",
     "text": [
      "average eigenvector centrality =  0.02275439823942365\n"
     ]
    }
   ],
   "source": [
    "# Exercício 1\n",
    "G = nx.read_edgelist(\"data/USairport500.txt\", nodetype=int)\n",
    "G = G.to_undirected()\n",
    "G.remove_edges_from(nx.selfloop_edges(G))\n",
    "Gcc = sorted(nx.connected_components(G), key=len, reverse=True)\n",
    "G = G.subgraph(Gcc[0])\n",
    "G = nx.convert_node_labels_to_integers(G, first_label=0) \n",
    "\n",
    "def average_eigenvector_centrality(G):\n",
    "    # Calcula a eigenvector centrality de cada nó\n",
    "    eig_centrality = nx.eigenvector_centrality(G)\n",
    "    \n",
    "    # Calcula a média da eigenvector centrality\n",
    "    mean_eig_centrality = sum(eig_centrality.values()) / len(eig_centrality)\n",
    "    \n",
    "    return mean_eig_centrality\n",
    "\n",
    "mean = average_eigenvector_centrality(G)\n",
    "print(\"average eigenvector centrality = \", mean)"
   ]
  },
  {
   "cell_type": "code",
   "execution_count": 3,
   "metadata": {},
   "outputs": [
    {
     "name": "stdout",
     "output_type": "stream",
     "text": [
      "Correlação de Pearson =  0.8242435188731535\n"
     ]
    }
   ],
   "source": [
    "# Exercício 2\n",
    "G = nx.read_edgelist(\"data/hamsterster.txt\", nodetype=int)\n",
    "G = G.to_undirected()\n",
    "G.remove_edges_from(nx.selfloop_edges(G))\n",
    "Gcc = sorted(nx.connected_components(G), key=len, reverse=True)\n",
    "G = G.subgraph(Gcc[0])\n",
    "G = nx.convert_node_labels_to_integers(G, first_label=0) \n",
    "\n",
    "# Calcula as medidas de centralidade\n",
    "bc = nx.betweenness_centrality(G)\n",
    "grau = dict(G.degree())\n",
    "\n",
    "# Extrai as listas das medidas de centralidade\n",
    "bc_list = list(bc.values())\n",
    "grau_list = list(grau.values())\n",
    "\n",
    "# Calcula o coeficiente de correlação de Pearson\n",
    "corr, pvalue = pearsonr(bc_list, grau_list)\n",
    "\n",
    "print(\"Correlação de Pearson = \", corr)"
   ]
  },
  {
   "cell_type": "code",
   "execution_count": 4,
   "metadata": {},
   "outputs": [
    {
     "name": "stdout",
     "output_type": "stream",
     "text": [
      "Spearman correlation coefficient =  0.7353399833516918\n"
     ]
    }
   ],
   "source": [
    "# Exercício 3\n",
    "G = nx.read_edgelist(\"data/jazz.txt\", nodetype=int)\n",
    "G = G.to_undirected()\n",
    "G.remove_edges_from(nx.selfloop_edges(G))\n",
    "Gcc = sorted(nx.connected_components(G), key=len, reverse=True)\n",
    "G = G.subgraph(Gcc[0])\n",
    "G = nx.convert_node_labels_to_integers(G, first_label=0) \n",
    "\n",
    "# Calcula a closeness centrality de cada nó\n",
    "closeness_centrality = nx.closeness_centrality(G)\n",
    "    \n",
    "# Calcula o k-core de cada nó\n",
    "kcore = nx.core_number(G)\n",
    "    \n",
    "# Cria listas com as medidas de closeness centrality e k-core, respectivamente\n",
    "closeness_list = [closeness_centrality[node] for node in G.nodes()]\n",
    "kcore_list = [kcore[node] for node in G.nodes()]\n",
    "    \n",
    "# Calcula o coeficiente de correlação de Spearman entre as medidas de closeness centrality e k-core\n",
    "rho, pval = spearmanr(closeness_list, kcore_list)\n",
    "\n",
    "print(\"Spearman correlation coefficient = \", rho)"
   ]
  }
 ],
 "metadata": {
  "kernelspec": {
   "display_name": "Python 3",
   "language": "python",
   "name": "python3"
  },
  "language_info": {
   "codemirror_mode": {
    "name": "ipython",
    "version": 3
   },
   "file_extension": ".py",
   "mimetype": "text/x-python",
   "name": "python",
   "nbconvert_exporter": "python",
   "pygments_lexer": "ipython3",
   "version": "3.10.10"
  },
  "orig_nbformat": 4,
  "vscode": {
   "interpreter": {
    "hash": "79b0dcb8356fe8bc4b7fedf296a4260cfd875db45ec5da86ba704b4d6bc63127"
   }
  }
 },
 "nbformat": 4,
 "nbformat_minor": 2
}
