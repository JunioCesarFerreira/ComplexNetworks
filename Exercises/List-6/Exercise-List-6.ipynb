{
 "cells": [
  {
   "cell_type": "code",
   "execution_count": 1,
   "metadata": {},
   "outputs": [],
   "source": [
    "import numpy as np\n",
    "import matplotlib.pyplot as plt\n",
    "import networkx as nx"
   ]
  },
  {
   "cell_type": "code",
   "execution_count": 2,
   "metadata": {},
   "outputs": [],
   "source": [
    "# Cálculo de n-ésimo momento\n",
    "def nth_moment(g,n):\n",
    "    degree_np = np.array(list(dict(g.degree).values()))\n",
    "    return (sum(degree_np**n)/len(g))"
   ]
  },
  {
   "cell_type": "code",
   "execution_count": 3,
   "metadata": {},
   "outputs": [],
   "source": [
    "def shannon_entropy(G):\n",
    "    from collections import Counter\n",
    "    from math import log2\n",
    "    # Cálculo da distribuição de graus\n",
    "    degree_sequence = [d for n, d in G.degree()]\n",
    "    degree_counts = Counter(degree_sequence)\n",
    "\n",
    "    # Cálculo das probabilidades de graus\n",
    "    total_degrees = sum(degree_counts.values())\n",
    "    degree_probs = [count / total_degrees for count in degree_counts.values()]\n",
    "\n",
    "    # Cálculo da entropia de Shannon da distribuição de graus\n",
    "    entropy = -sum([prob * log2(prob) for prob in degree_probs if prob > 0])\n",
    "    return entropy"
   ]
  },
  {
   "cell_type": "code",
   "execution_count": 4,
   "metadata": {},
   "outputs": [
    {
     "name": "stdout",
     "output_type": "stream",
     "text": [
      "<cc> = 0.04772718394687166; <k²> = 217.46\n"
     ]
    }
   ],
   "source": [
    "# Exercício 1\n",
    "N = 1000\n",
    "av_degree = 10\n",
    "m = int(av_degree/2)\n",
    "G = nx.barabasi_albert_graph(N, m)\n",
    "\n",
    "k2 = nth_moment(G, 2)\n",
    "avc = nx.average_clustering(G)\n",
    "print(f\"<cc> = {avc}; <k²> = {k2}\")"
   ]
  },
  {
   "cell_type": "code",
   "execution_count": 5,
   "metadata": {},
   "outputs": [
    {
     "name": "stdout",
     "output_type": "stream",
     "text": [
      "ER: 3.66218251109411; BA: 3.5768361230126064\n"
     ]
    }
   ],
   "source": [
    "# Exercício 2\n",
    "N = 1000\n",
    "av_degree = 10\n",
    "\n",
    "p = av_degree * N // 2\n",
    "ER = nx.gnm_random_graph(N, p)\n",
    "\n",
    "m = int(av_degree/2)\n",
    "BA = nx.barabasi_albert_graph(N, m)\n",
    "\n",
    "#print(f\"ER:<k> = {nth_moment(ER,1)}; BA:<k> = {nth_moment(BA,1)}\")\n",
    "\n",
    "print(f\"ER: {shannon_entropy(ER)}; BA: {shannon_entropy(BA)}\")"
   ]
  },
  {
   "cell_type": "code",
   "execution_count": 6,
   "metadata": {},
   "outputs": [
    {
     "name": "stdout",
     "output_type": "stream",
     "text": [
      "Correlação de Pearson =  0.9399448104111332\n",
      "Spearman correlation coefficient =  0.6403878350155179\n"
     ]
    }
   ],
   "source": [
    "# Exercício 3\n",
    "from scipy.stats import pearsonr\n",
    "from scipy.stats import spearmanr\n",
    "\n",
    "N = 1000\n",
    "av_degree = 10\n",
    "\n",
    "m = int(av_degree/2)\n",
    "G = nx.barabasi_albert_graph(N, m)\n",
    "\n",
    "eigenv_centrality = nx.eigenvector_centrality(G)\n",
    "degree_centrality = dict(G.degree())\n",
    "\n",
    "eig_list = list(eigenv_centrality.values())\n",
    "deg_list = list(degree_centrality.values())\n",
    "\n",
    "corr, pvalue = pearsonr(eig_list, deg_list)\n",
    "print(\"Correlação de Pearson = \", corr)\n",
    "\n",
    "rho, pval = spearmanr(eig_list, deg_list)\n",
    "print(\"Spearman correlation coefficient = \", rho)"
   ]
  },
  {
   "cell_type": "code",
   "execution_count": 7,
   "metadata": {},
   "outputs": [
    {
     "name": "stdout",
     "output_type": "stream",
     "text": [
      "Correlação de Pearson =  0.9638258543081027\n",
      "Spearman correlation coefficient =  0.9482714909424979\n"
     ]
    }
   ],
   "source": [
    "# Exercício 4\n",
    "from scipy.stats import pearsonr\n",
    "from scipy.stats import spearmanr\n",
    "\n",
    "N = 500\n",
    "av_degree = 10\n",
    "\n",
    "m = int(av_degree/2)\n",
    "G = nx.barabasi_albert_graph(N, m)\n",
    "\n",
    "betwee_centrality = nx.betweenness_centrality(G)\n",
    "degree_centrality = dict(G.degree())\n",
    "\n",
    "bet_list = list(betwee_centrality.values())\n",
    "deg_list = list(degree_centrality.values())\n",
    "\n",
    "corr, pvalue = pearsonr(bet_list, deg_list)\n",
    "print(\"Correlação de Pearson = \", corr)\n",
    "\n",
    "rho, pval = spearmanr(bet_list, deg_list)\n",
    "print(\"Spearman correlation coefficient = \", rho)"
   ]
  },
  {
   "cell_type": "code",
   "execution_count": 8,
   "metadata": {},
   "outputs": [
    {
     "name": "stdout",
     "output_type": "stream",
     "text": [
      "5.583333333333333\n"
     ]
    }
   ],
   "source": [
    "# Exercício 5\n",
    "from random import *\n",
    "N = 500\n",
    "a = 3\n",
    "seq = np.random.zipf(a, N)\n",
    "\n",
    "if(sum(seq)%2 != 0): \n",
    "    pos = randint(0, len(seq)-1)\n",
    "    seq[pos] = seq[pos]+ 1\n",
    "\n",
    "G=nx.configuration_model(seq)\n",
    "Gcc = sorted(nx.connected_components(G), key=len, reverse=True)\n",
    "G = G.subgraph(Gcc[0])\n",
    "\n",
    "k2 = nth_moment(G, 2)\n",
    "\n",
    "print(k2)"
   ]
  }
 ],
 "metadata": {
  "kernelspec": {
   "display_name": "Python 3",
   "language": "python",
   "name": "python3"
  },
  "language_info": {
   "codemirror_mode": {
    "name": "ipython",
    "version": 3
   },
   "file_extension": ".py",
   "mimetype": "text/x-python",
   "name": "python",
   "nbconvert_exporter": "python",
   "pygments_lexer": "ipython3",
   "version": "3.10.11"
  },
  "orig_nbformat": 4
 },
 "nbformat": 4,
 "nbformat_minor": 2
}
