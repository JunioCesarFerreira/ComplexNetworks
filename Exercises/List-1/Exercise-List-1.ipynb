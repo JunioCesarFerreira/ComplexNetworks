{
 "cells": [
  {
   "cell_type": "code",
   "execution_count": 1,
   "metadata": {},
   "outputs": [],
   "source": [
    "# Libs\n",
    "from numpy  import *\n",
    "import numpy as np\n",
    "import matplotlib.pyplot as plt\n",
    "import networkx as nx\n",
    "import math as math"
   ]
  },
  {
   "cell_type": "code",
   "execution_count": 2,
   "metadata": {},
   "outputs": [
    {
     "name": "stdout",
     "output_type": "stream",
     "text": [
      "Terceiro momento de k:  1408\n",
      "Quarto momento de k:   33593\n"
     ]
    }
   ],
   "source": [
    "# Exercício 1\n",
    "G= nx.read_gml(\"data/lesmis.gml\") # Read the network\n",
    "\n",
    "# Transforma o grafo em rede sem direção\n",
    "G = G.to_undirected()\n",
    "G.remove_edges_from(nx.selfloop_edges(G))\n",
    "\n",
    "# Seleciona apenas a maior componente conexa\n",
    "Gcc = sorted(nx.connected_components(G), key=len, reverse=True)\n",
    "G = G.subgraph(Gcc[0])\n",
    "\n",
    "# Transforma labels em numeros inteiros\n",
    "G = nx.convert_node_labels_to_integers(G, first_label=0)\n",
    "\n",
    "# Graus dos vértices\n",
    "vk = dict(G.degree()).values()\n",
    "vk = np.array(list(vk))\n",
    "\n",
    "# Grau médio da rede\n",
    "md = mean(vk)\n",
    "\n",
    "# Cálcula momentos\n",
    "def nth_moment(g,n):\n",
    "    degree_np = np.array(list(dict(g.degree).values()))\n",
    "    return (sum(degree_np**n)/len(g))\n",
    "\n",
    "print('Terceiro momento de k:', \"%5.0f\"%nth_moment(G,3))\n",
    "print('Quarto momento de k:  ', \"%5.0f\"%nth_moment(G,4))"
   ]
  },
  {
   "cell_type": "code",
   "execution_count": 3,
   "metadata": {},
   "outputs": [
    {
     "name": "stdout",
     "output_type": "stream",
     "text": [
      "Coeficiente de complexidade =  3.87\n"
     ]
    }
   ],
   "source": [
    "# Exercício 2\n",
    "G= G=nx.read_edgelist(\"data/powergrid.txt\", nodetype=int) # read data file has only two columns\n",
    "\n",
    "# Transforma o grafo em rede sem direção\n",
    "G = G.to_undirected()\n",
    "G.remove_edges_from(nx.selfloop_edges(G))\n",
    "\n",
    "# Seleciona apenas a maior componente conexa\n",
    "Gcc = sorted(nx.connected_components(G), key=len, reverse=True)\n",
    "G = G.subgraph(Gcc[0])\n",
    "\n",
    "# Cálcula momentos\n",
    "def nth_moment(g,n):\n",
    "    degree_np = np.array(list(dict(g.degree).values()))\n",
    "    return (sum(degree_np**n)/len(g))\n",
    "\n",
    "# Cálcula coeficiente de complexidade\n",
    "C = nth_moment(G,2)/nth_moment(G,1)\n",
    "\n",
    "print(\"Coeficiente de complexidade = \",\"%3.2f\"%C)"
   ]
  },
  {
   "cell_type": "code",
   "execution_count": 4,
   "metadata": {},
   "outputs": [
    {
     "name": "stdout",
     "output_type": "stream",
     "text": [
      "Shannon Entropy =  2.00\n"
     ]
    }
   ],
   "source": [
    "# Exercício 3\n",
    "G= G=nx.read_edgelist(\"data/euroroad.txt\", nodetype=int) # read data file has only two columns\n",
    "\n",
    "# Transforma o grafo em rede sem direção\n",
    "G = G.to_undirected()\n",
    "G.remove_edges_from(nx.selfloop_edges(G))\n",
    "\n",
    "# Seleciona apenas a maior componente conexa\n",
    "Gcc = sorted(nx.connected_components(G), key=len, reverse=True)\n",
    "G = G.subgraph(Gcc[0])\n",
    "\n",
    "def degree_distribution(G):\n",
    "    vk = dict(G.degree())\n",
    "    vk = list(vk.values())  # we get only the degree values\n",
    "    vk = np.array(vk)\n",
    "    maxk = np.max(vk)\n",
    "    kvalues= np.arange(0,maxk+1) # possible values of k\n",
    "    Pk = np.zeros(maxk+1) # P(k)\n",
    "    for k in vk:\n",
    "        Pk[k] = Pk[k] + 1\n",
    "    Pk = Pk/sum(Pk) # the sum of the elements of P(k) must to be equal to one\n",
    "    return kvalues,Pk\n",
    "\n",
    "def shannon_entropy(G):\n",
    "    k,Pk = degree_distribution(G)\n",
    "    H = 0\n",
    "    for p in Pk:\n",
    "        if(p > 0):\n",
    "            H = H - p*math.log(p, 2)\n",
    "    return H\n",
    "\n",
    "H = shannon_entropy(G)\n",
    "print(\"Shannon Entropy = \", \"%3.2f\"%H)"
   ]
  },
  {
   "cell_type": "code",
   "execution_count": 5,
   "metadata": {},
   "outputs": [
    {
     "name": "stdout",
     "output_type": "stream",
     "text": [
      "Transitivity =  0.38\n",
      "Average clustering =  0.50\n"
     ]
    }
   ],
   "source": [
    "# Exercício 4\n",
    "G= nx.read_edgelist(\"data/usairport.txt\", nodetype=int, data=(('weight',float),))\n",
    "\n",
    "# Transforma o grafo em rede sem direção\n",
    "G = G.to_undirected()\n",
    "G.remove_edges_from(nx.selfloop_edges(G))\n",
    "\n",
    "# Seleciona apenas a maior componente conexa\n",
    "Gcc = sorted(nx.connected_components(G), key=len, reverse=True)\n",
    "G = G.subgraph(Gcc[0])\n",
    "\n",
    "CC = (nx.transitivity(G)) \n",
    "print(\"Transitivity = \",\"%3.2f\"%CC)\n",
    "\n",
    "avc = nx.average_clustering(G)\n",
    "print(\"Average clustering = \", \"%3.2f\"%avc)"
   ]
  },
  {
   "cell_type": "code",
   "execution_count": 6,
   "metadata": {},
   "outputs": [
    {
     "name": "stdout",
     "output_type": "stream",
     "text": [
      "Coeficiente de complexidade =  112.23\n",
      "Shannon Entropy =  4.99\n"
     ]
    }
   ],
   "source": [
    "# Exercício 5\n",
    "# Cálcula coeficiente de complexidade\n",
    "C = nth_moment(G,2)/nth_moment(G,1)\n",
    "\n",
    "print(\"Coeficiente de complexidade = \",\"%3.2f\"%C)\n",
    "\n",
    "H = shannon_entropy(G)\n",
    "print(\"Shannon Entropy = \", \"%3.2f\"%H)"
   ]
  }
 ],
 "metadata": {
  "kernelspec": {
   "display_name": "Python 3",
   "language": "python",
   "name": "python3"
  },
  "language_info": {
   "codemirror_mode": {
    "name": "ipython",
    "version": 3
   },
   "file_extension": ".py",
   "mimetype": "text/x-python",
   "name": "python",
   "nbconvert_exporter": "python",
   "pygments_lexer": "ipython3",
   "version": "3.10.10"
  },
  "orig_nbformat": 4
 },
 "nbformat": 4,
 "nbformat_minor": 2
}
