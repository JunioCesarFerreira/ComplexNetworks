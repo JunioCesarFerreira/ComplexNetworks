{
 "cells": [
  {
   "cell_type": "code",
   "execution_count": 1,
   "metadata": {},
   "outputs": [],
   "source": [
    "import numpy as np\n",
    "import networkx as nx"
   ]
  },
  {
   "cell_type": "code",
   "execution_count": 2,
   "metadata": {},
   "outputs": [
    {
     "name": "stdout",
     "output_type": "stream",
     "text": [
      "100.362; 10161.972; 0.10039134220913919.\n"
     ]
    }
   ],
   "source": [
    "# Exercício 1\n",
    "\n",
    "N = 1000\n",
    "p = 0.1\n",
    "G = nx.gnp_random_graph(N, p, seed=None, directed=False)\n",
    "\n",
    "degrees = dict(G.degree())  \n",
    "average_degree = np.mean(list(degrees.values()))\n",
    "\n",
    "second_moment = np.mean([d**2 for d in list(degrees.values())])\n",
    "\n",
    "average_clustering_coefficient = nx.average_clustering(G)\n",
    "\n",
    "print(f\"{average_degree}; {second_moment}; {average_clustering_coefficient}.\")"
   ]
  },
  {
   "cell_type": "code",
   "execution_count": 3,
   "metadata": {},
   "outputs": [
    {
     "name": "stdout",
     "output_type": "stream",
     "text": [
      "10.0; 100.908; 0.4935216672216673.\n"
     ]
    }
   ],
   "source": [
    "# Exercício 2\n",
    "\n",
    "N = 1000\n",
    "k = 10\n",
    "p = 0.1\n",
    "\n",
    "G = nx.watts_strogatz_graph(N, k, p, seed=None)\n",
    "\n",
    "degrees = dict(G.degree())  \n",
    "average_degree = np.mean(list(degrees.values()))\n",
    "\n",
    "second_moment = np.mean([d**2 for d in list(degrees.values())])\n",
    "\n",
    "average_clustering = nx.average_clustering(G)\n",
    "\n",
    "print(f\"{average_degree}; {second_moment}; {average_clustering}.\")"
   ]
  },
  {
   "cell_type": "code",
   "execution_count": 4,
   "metadata": {},
   "outputs": [
    {
     "name": "stdout",
     "output_type": "stream",
     "text": [
      "<k> = 5; Entropia de Shannon = 3.1726\n",
      "<k> = 10; Entropia de Shannon = 3.6336\n",
      "<k> = 50; Entropia de Shannon = 4.7785\n"
     ]
    }
   ],
   "source": [
    "# Exercício 3\n",
    "\n",
    "from collections import Counter\n",
    "from math import log2\n",
    "\n",
    "N = 1000  \n",
    "degrees = [5, 10, 50] \n",
    "\n",
    "for k in degrees:\n",
    "    \n",
    "    p = k * N // 2\n",
    "    \n",
    "    G = nx.gnm_random_graph(N, p)\n",
    "\n",
    "    # Cálculo da distribuição de graus\n",
    "    degree_sequence = [d for n, d in G.degree()]\n",
    "    degree_counts = Counter(degree_sequence)\n",
    "\n",
    "    # Cálculo das probabilidades de graus\n",
    "    total_degrees = sum(degree_counts.values())\n",
    "    degree_probs = [count / total_degrees for count in degree_counts.values()]\n",
    "\n",
    "    # Cálculo da entropia de Shannon da distribuição de graus\n",
    "    entropy = -sum([prob * log2(prob) for prob in degree_probs if prob > 0])\n",
    "\n",
    "    print(f\"<k> = {k}; Entropia de Shannon = {entropy:.4f}\")"
   ]
  },
  {
   "cell_type": "code",
   "execution_count": 5,
   "metadata": {},
   "outputs": [
    {
     "name": "stdout",
     "output_type": "stream",
     "text": [
      "average shortest path =  6.696969696969697\n",
      "average shortest path =  4.968686868686869\n",
      "average shortest path =  3.5171717171717174\n",
      "average shortest path =  3.0327272727272727\n"
     ]
    }
   ],
   "source": [
    "# Exercício 4\n",
    "\n",
    "N = 100\n",
    "k = 8\n",
    "probs = [0, 0.01, 0.05, 0.1]\n",
    "\n",
    "for p in probs:\n",
    "        \n",
    "    G = nx.watts_strogatz_graph(N, k, p)\n",
    "\n",
    "    average_shortest_path = nx.average_shortest_path_length(G)\n",
    "\n",
    "    print(\"average shortest path = \", average_shortest_path)"
   ]
  },
  {
   "cell_type": "code",
   "execution_count": 6,
   "metadata": {},
   "outputs": [
    {
     "name": "stdout",
     "output_type": "stream",
     "text": [
      "assortativity =  0.02450559976412202\n",
      "assortativity =  -0.00217204022423703\n",
      "assortativity =  -0.009082882072991794\n"
     ]
    }
   ],
   "source": [
    "# Exercício 5\n",
    "\n",
    "N = 1000  \n",
    "degrees = [5, 10, 50] \n",
    "\n",
    "for k in degrees:\n",
    "    \n",
    "    p = k * N // 2\n",
    "    \n",
    "    G = nx.gnm_random_graph(N, p)\n",
    "    \n",
    "    assortativity = nx.degree_assortativity_coefficient(G)\n",
    "\n",
    "    print(\"assortativity = \", assortativity)"
   ]
  },
  {
   "cell_type": "code",
   "execution_count": 7,
   "metadata": {},
   "outputs": [
    {
     "name": "stdout",
     "output_type": "stream",
     "text": [
      "assortativity =  0.004810663773778895\n",
      "assortativity =  -0.013173242519511987\n",
      "assortativity =  -0.027806627366976835\n"
     ]
    }
   ],
   "source": [
    "# Exercício 6\n",
    "\n",
    "N = 1000\n",
    "k = 10\n",
    "probs = [0.01, 0.05, 0.2]\n",
    "\n",
    "for p in probs:\n",
    "        \n",
    "    G = nx.watts_strogatz_graph(N, k, p)\n",
    "    \n",
    "    assortativity = nx.degree_assortativity_coefficient(G)\n",
    "\n",
    "    print(\"assortativity = \", assortativity)"
   ]
  }
 ],
 "metadata": {
  "kernelspec": {
   "display_name": "Python 3",
   "language": "python",
   "name": "python3"
  },
  "language_info": {
   "codemirror_mode": {
    "name": "ipython",
    "version": 3
   },
   "file_extension": ".py",
   "mimetype": "text/x-python",
   "name": "python",
   "nbconvert_exporter": "python",
   "pygments_lexer": "ipython3",
   "version": "3.10.11"
  },
  "orig_nbformat": 4
 },
 "nbformat": 4,
 "nbformat_minor": 2
}
