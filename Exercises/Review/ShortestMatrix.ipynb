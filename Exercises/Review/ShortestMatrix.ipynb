{
 "cells": [
  {
   "cell_type": "code",
   "execution_count": 5,
   "metadata": {},
   "outputs": [
    {
     "name": "stdout",
     "output_type": "stream",
     "text": [
      "result 1:\n",
      "[[0. 1. 1. ... 4. 4. 2.]\n",
      " [1. 0. 1. ... 3. 4. 3.]\n",
      " [1. 1. 0. ... 4. 4. 3.]\n",
      " ...\n",
      " [4. 3. 4. ... 0. 4. 4.]\n",
      " [4. 4. 4. ... 4. 0. 4.]\n",
      " [2. 3. 3. ... 4. 4. 0.]]\n",
      "result 2;\n",
      "[[0. 1. 1. ... 4. 4. 2.]\n",
      " [1. 0. 1. ... 3. 4. 3.]\n",
      " [1. 1. 0. ... 4. 4. 3.]\n",
      " ...\n",
      " [4. 3. 4. ... 0. 4. 4.]\n",
      " [4. 4. 4. ... 4. 0. 4.]\n",
      " [2. 3. 3. ... 4. 4. 0.]]\n",
      "array equal:  True\n",
      "time 1 =  54.0637948513031\n",
      "time 2 =  0.14721345901489258\n"
     ]
    }
   ],
   "source": [
    "import time\n",
    "import numpy as np\n",
    "from numpy  import *\n",
    "import networkx as nx\n",
    "import scipy.sparse as sp\n",
    "import scipy.sparse.csgraph as csgraph\n",
    "\n",
    "# Calcula a matriz de menores distâncias D\n",
    "def distance(G):\n",
    "    N = len(G)\n",
    "    D = np.zeros(shape=(N,N))\n",
    "    \n",
    "    for i in range(N):\n",
    "        lengths = nx.shortest_path_length(G, source=i)\n",
    "        for j in range(i+1, N):\n",
    "            D[i][j] = lengths.get(j, 0)\n",
    "            D[j][i] = D[i][j]\n",
    "    \n",
    "    np.fill_diagonal(D, 0)\n",
    "    return D\n",
    "\n",
    "G = nx.read_edgelist(\"data/advogato.txt\")\n",
    "G = G.to_undirected()\n",
    "Gcc = sorted(nx.connected_components(G), key=len, reverse=True)\n",
    "G = G.subgraph(Gcc[0])\n",
    "G = nx.convert_node_labels_to_integers(G, first_label=0)\n",
    "matrix = nx.adjacency_matrix(G).toarray()\n",
    "\n",
    "start_time = time.time()\n",
    "D = distance(G)\n",
    "end_time = time.time()\n",
    "time1 = end_time - start_time\n",
    "\n",
    "start_time = time.time()\n",
    "A = nx.adjacency_matrix(G).toarray()\n",
    "end_time = time.time()\n",
    "time2 = end_time - start_time\n",
    "\n",
    "adj_sparse = sp.csr_matrix(A)\n",
    "dist_matrix = csgraph.shortest_path(adj_sparse, method='D', directed=False)\n",
    "\n",
    "print(\"result 1:\")\n",
    "print(D)\n",
    "print(\"result 2;\")\n",
    "print(dist_matrix)\n",
    "print(\"array equal: \", np.array_equal(D, dist_matrix))\n",
    "print(\"time 1 = \", time1)\n",
    "print(\"time 2 = \", time2)"
   ]
  }
 ],
 "metadata": {
  "kernelspec": {
   "display_name": "Python 3",
   "language": "python",
   "name": "python3"
  },
  "language_info": {
   "codemirror_mode": {
    "name": "ipython",
    "version": 3
   },
   "file_extension": ".py",
   "mimetype": "text/x-python",
   "name": "python",
   "nbconvert_exporter": "python",
   "pygments_lexer": "ipython3",
   "version": "3.10.11"
  },
  "orig_nbformat": 4
 },
 "nbformat": 4,
 "nbformat_minor": 2
}
