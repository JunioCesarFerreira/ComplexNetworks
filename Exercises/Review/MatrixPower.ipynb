{
 "cells": [
  {
   "cell_type": "code",
   "execution_count": 5,
   "metadata": {},
   "outputs": [],
   "source": [
    "import numpy as np\n",
    "import networkx as nx\n",
    "import matplotlib.pyplot as plt\n",
    "\n",
    "filename = \"data/advogato.txt\"\n",
    "G = nx.read_edgelist(filename)\n",
    "G = G.to_undirected()\n",
    "Gcc = sorted(nx.connected_components(G), key=len, reverse=True)\n",
    "G = G.subgraph(Gcc[0])\n",
    "G = nx.convert_node_labels_to_integers(G, first_label=0)\n",
    "A = nx.adjacency_matrix(G).toarray()"
   ]
  },
  {
   "cell_type": "code",
   "execution_count": 6,
   "metadata": {},
   "outputs": [],
   "source": [
    "n_values = range(1, 3)  # Valores de n para calcular A^n"
   ]
  },
  {
   "cell_type": "code",
   "execution_count": 7,
   "metadata": {},
   "outputs": [],
   "source": [
    "# Cômputo direto usando método otimizado da library linalg. (Time: 17m)\n",
    "for n in n_values:\n",
    "    An = np.linalg.matrix_power(A, n)"
   ]
  },
  {
   "cell_type": "code",
   "execution_count": 8,
   "metadata": {},
   "outputs": [],
   "source": [
    "# Cômputo utilizando matriz triangular, pois A é simétrica (Sugestão do chatGPT). (Time: 17m)\n",
    "lower_triangular = np.tril(A) \n",
    "for n in n_values:\n",
    "    An = np.linalg.matrix_power(lower_triangular, n)\n",
    "    An = An + An.T - np.diag(np.diag(An)) "
   ]
  },
  {
   "cell_type": "code",
   "execution_count": 9,
   "metadata": {},
   "outputs": [],
   "source": [
    "# Cômputo utilizando SVD. (Time: 1.5m)\n",
    "U, S, VT = np.linalg.svd(A)\n",
    "correlations = []\n",
    "for n in n_values:\n",
    "    Sn = np.diag(S ** n)  # calcular as potências da matriz diagonal Σ\n",
    "    An = U @ Sn @ VT  # recombinação das matrizes"
   ]
  }
 ],
 "metadata": {
  "kernelspec": {
   "display_name": "Python 3",
   "language": "python",
   "name": "python3"
  },
  "language_info": {
   "codemirror_mode": {
    "name": "ipython",
    "version": 3
   },
   "file_extension": ".py",
   "mimetype": "text/x-python",
   "name": "python",
   "nbconvert_exporter": "python",
   "pygments_lexer": "ipython3",
   "version": "3.10.11"
  },
  "orig_nbformat": 4
 },
 "nbformat": 4,
 "nbformat_minor": 2
}
