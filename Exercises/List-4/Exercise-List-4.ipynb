{
 "cells": [
  {
   "cell_type": "code",
   "execution_count": 1,
   "metadata": {},
   "outputs": [],
   "source": [
    "import numpy as np\n",
    "import matplotlib.pyplot as plt\n",
    "import networkx as nx"
   ]
  },
  {
   "cell_type": "code",
   "execution_count": 2,
   "metadata": {},
   "outputs": [
    {
     "name": "stdout",
     "output_type": "stream",
     "text": [
      "Modularity =  0.43890781537538287\n"
     ]
    }
   ],
   "source": [
    "# Exercício 1\n",
    "G = nx.read_edgelist(\"data/jazz.txt\", nodetype=int)\n",
    "G = G.to_undirected()\n",
    "G.remove_edges_from(nx.selfloop_edges(G))\n",
    "Gcc = sorted(nx.connected_components(G), key=len, reverse=True)\n",
    "G = G.subgraph(Gcc[0])\n",
    "G = nx.convert_node_labels_to_integers(G, first_label=0)\n",
    "\n",
    "from networkx.algorithms.community import greedy_modularity_communities\n",
    "from networkx.algorithms.community import modularity\n",
    "\n",
    "communities = list(greedy_modularity_communities(G))\n",
    "    \n",
    "print(\"Modularity = \", modularity(G,communities))\n"
   ]
  },
  {
   "cell_type": "code",
   "execution_count": 3,
   "metadata": {},
   "outputs": [
    {
     "name": "stdout",
     "output_type": "stream",
     "text": [
      "Modularity =  0.4446668938377062\n"
     ]
    }
   ],
   "source": [
    "# Exercício 2\n",
    "G = nx.read_edgelist(\"data/jazz.txt\", nodetype=int)\n",
    "G = G.to_undirected()\n",
    "G.remove_edges_from(nx.selfloop_edges(G))\n",
    "Gcc = sorted(nx.connected_components(G), key=len, reverse=True)\n",
    "G = G.subgraph(Gcc[0])\n",
    "G = nx.convert_node_labels_to_integers(G, first_label=0)\n",
    "\n",
    "from community import community_louvain\n",
    "from networkx.algorithms.community import modularity\n",
    "\n",
    "partition = community_louvain.best_partition(G)\n",
    "\n",
    "communities = []\n",
    "for com in set(partition.values()):\n",
    "    members = list(node for node, comm in partition.items() if comm == com)\n",
    "    communities.append(members)\n",
    "    \n",
    "print(\"Modularity = \", modularity(G,communities))"
   ]
  },
  {
   "cell_type": "code",
   "execution_count": 4,
   "metadata": {},
   "outputs": [
    {
     "name": "stdout",
     "output_type": "stream",
     "text": [
      "Q(mu=0.05) = 0.6502735057974447\n",
      "Q(mu=0.1) = 0.5493325502769797\n",
      "Q(mu=0.2) = 0.4522068821446936\n"
     ]
    }
   ],
   "source": [
    "# Exercício 3\n",
    "N = 128\n",
    "tau1 = 3\n",
    "tau2 = 1.5\n",
    "k = 16\n",
    "minc = 32\n",
    "maxc = 32\n",
    "\n",
    "mu_arr = [0.05, 0.1, 0.2]\n",
    "\n",
    "for mu in mu_arr:\n",
    "    G = nx.LFR_benchmark_graph(n=N, tau1=tau1, tau2=tau2, mu=mu, min_degree=k, max_degree=k, min_community=minc, max_community=maxc)\n",
    "    partition = community_louvain.best_partition(G)\n",
    "\n",
    "    communities = []\n",
    "    for com in set(partition.values()):\n",
    "        members = list(node for node, comm in partition.items() if comm == com)\n",
    "        communities.append(members)\n",
    "    \n",
    "    print(\"Q(mu={}) = {}\".format(mu, modularity(G,communities)))"
   ]
  },
  {
   "cell_type": "code",
   "execution_count": 5,
   "metadata": {},
   "outputs": [
    {
     "name": "stdout",
     "output_type": "stream",
     "text": [
      "Q(mu=0.05) = 0.6484957891051407\n",
      "Q(mu=0.2) = 0.4508979281818401\n",
      "Q(mu=0.4) = 0.20604438431438316\n"
     ]
    }
   ],
   "source": [
    "# Exercício 4\n",
    "N = 128\n",
    "tau1 = 3\n",
    "tau2 = 1.5\n",
    "k = 16\n",
    "minc = 32\n",
    "maxc = 32\n",
    "\n",
    "mu_arr = [0.05, 0.2, 0.4]\n",
    "\n",
    "for mu in mu_arr:\n",
    "    G = nx.LFR_benchmark_graph(n=N, tau1=tau1, tau2=tau2, mu=mu, min_degree=k, max_degree=k, min_community=minc, max_community=maxc)\n",
    "    partition = community_louvain.best_partition(G)\n",
    "\n",
    "    communities = []\n",
    "    for com in set(partition.values()):\n",
    "        members = list(node for node, comm in partition.items() if comm == com)\n",
    "        communities.append(members)\n",
    "    \n",
    "    print(\"Q(mu={}) = {}\".format(mu, modularity(G,communities)))"
   ]
  }
 ],
 "metadata": {
  "kernelspec": {
   "display_name": "Python 3",
   "language": "python",
   "name": "python3"
  },
  "language_info": {
   "codemirror_mode": {
    "name": "ipython",
    "version": 3
   },
   "file_extension": ".py",
   "mimetype": "text/x-python",
   "name": "python",
   "nbconvert_exporter": "python",
   "pygments_lexer": "ipython3",
   "version": "3.10.11"
  },
  "orig_nbformat": 4
 },
 "nbformat": 4,
 "nbformat_minor": 2
}
